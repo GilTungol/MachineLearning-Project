{
 "cells": [
  {
   "cell_type": "code",
   "execution_count": null,
   "metadata": {},
   "outputs": [],
   "source": [
    "from alpha_vantage.timeseries import TimeSeries\n",
    "# Your key here\n",
    "key = 'J4KABO9A3QH4JXMA'\n",
    "ts = TimeSeries(key)\n",
    "aapl, meta = ts.get_daily(symbol='AAPL')\n",
    "print(aapl['2019-09-12'])"
   ]
  },
  {
   "cell_type": "code",
   "execution_count": null,
   "metadata": {},
   "outputs": [],
   "source": [
    "# MSFT stock price for the past 20 years\n",
    "# from alpha_vantage.timeseries import TimeSeries\n",
    "# https://www.alphavantage.co/query?function=TIME_SERIES_DAILY&symbol=MSFT&apikey=J4KABO9A3QH4JXMA&datatype=csv&outputsize=full"
   ]
  },
  {
   "cell_type": "code",
   "execution_count": null,
   "metadata": {},
   "outputs": [],
   "source": [
    "# AMZN stock price for the past 20 years\n",
    "# from alpha_vantage.timeseries import TimeSeries\n",
    "# https://www.alphavantage.co/query?function=TIME_SERIES_DAILY&symbol=AMZN&apikey=J4KABO9A3QH4JXMA&datatype=csv&outputsize=full"
   ]
  },
  {
   "cell_type": "code",
   "execution_count": null,
   "metadata": {},
   "outputs": [],
   "source": [
    "# AMZN stock price (100)\n",
    "from alpha_vantage.timeseries import TimeSeries\n",
    "https://www.alphavantage.co/query?function=TIME_SERIES_DAILY&symbol=AMZN&apikey=J4KABO9A3QH4JXMA&datatype=csv"
   ]
  }
 ],
 "metadata": {
  "kernelspec": {
   "display_name": "Python 3",
   "language": "python",
   "name": "python3"
  },
  "language_info": {
   "codemirror_mode": {
    "name": "ipython",
    "version": 3
   },
   "file_extension": ".py",
   "mimetype": "text/x-python",
   "name": "python",
   "nbconvert_exporter": "python",
   "pygments_lexer": "ipython3",
   "version": "3.7.3"
  }
 },
 "nbformat": 4,
 "nbformat_minor": 2
}
